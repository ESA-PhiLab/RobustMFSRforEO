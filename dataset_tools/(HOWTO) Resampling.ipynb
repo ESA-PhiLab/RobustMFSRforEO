{
 "cells": [
  {
   "cell_type": "code",
   "execution_count": null,
   "id": "heavy-scanner",
   "metadata": {},
   "outputs": [],
   "source": [
    "import sys\n",
    "sys.path.append('..')"
   ]
  },
  {
   "cell_type": "markdown",
   "id": "durable-knight",
   "metadata": {},
   "source": [
    "## Resample Sentinel Imagery"
   ]
  },
  {
   "cell_type": "code",
   "execution_count": null,
   "id": "assisted-mambo",
   "metadata": {},
   "outputs": [],
   "source": [
    "from dataset_tools.resampleImagery import resample_dataset"
   ]
  },
  {
   "cell_type": "code",
   "execution_count": null,
   "id": "impossible-moscow",
   "metadata": {},
   "outputs": [],
   "source": [
    "# Resample Imagery\n",
    "resample_dataset(root_dir='/data/spacenet/train/',satellite='sentinel',GSD=10,False)"
   ]
  },
  {
   "cell_type": "markdown",
   "id": "national-microphone",
   "metadata": {},
   "source": [
    "## Resample Sentinel Clouds"
   ]
  },
  {
   "cell_type": "code",
   "execution_count": 12,
   "id": "biblical-particle",
   "metadata": {},
   "outputs": [],
   "source": [
    "from src.datasources import df_spacenet7\n",
    "from dataset_tools.resampleImagery import resample"
   ]
  },
  {
   "cell_type": "code",
   "execution_count": 13,
   "id": "opposed-inspection",
   "metadata": {},
   "outputs": [],
   "source": [
    "def resample_sentinel_cloud_dataset(root_dir,GSD,makeCOG):\n",
    "    \"\"\"\n",
    "    inputs  - file: root directory [\"/data/spacenet/train/\"]\n",
    "            - output_file: satellite [\"planet\",\"sentinel\"]\n",
    "            - GSD: required ground sampling distance in m\n",
    "    \"\"\"\n",
    "    from src.datasources import spacenet7_index\n",
    "    satellite = 'sentinel'\n",
    "    df = spacenet7_index()\n",
    "    df_satellite = df.loc[satellite]\n",
    "    scenes = (df_satellite\n",
    "              .index\n",
    "              .get_level_values('scene')  ## \"scene\" level of the multi-index\n",
    "              .unique())  ## Unique names\n",
    "    scenes = list(scenes)\n",
    "    for scene in tqdm.tqdm(scenes):\n",
    "        scene_df = df_satellite.query(f\"scene=='{scene}'\")\n",
    "        output_dir = os.path.join(root_dir,scene,satellite+'_cloud_processed')\n",
    "        if not os.path.exists(output_dir):\n",
    "            os.makedirs(output_dir)\n",
    "        for i in range(len(scene_df)):\n",
    "            file = scene_df.iloc[i]['cloud_mask_path']\n",
    "            filename = scene_df.iloc[i].basename.replace(\"TCI\",\"SCL\")\n",
    "            output_file = os.path.join(output_dir,filename)\n",
    "            resample(file, output_file, GSD, makeCOG=makeCOG)"
   ]
  },
  {
   "cell_type": "code",
   "execution_count": 14,
   "id": "solar-ivory",
   "metadata": {},
   "outputs": [
    {
     "name": "stderr",
     "output_type": "stream",
     "text": [
      "100%|██████████| 46/46 [00:06<00:00,  7.07it/s]\n"
     ]
    }
   ],
   "source": [
    "resample_sentinel_cloud_dataset('/data/spacenet/train/', 10,False)"
   ]
  }
 ],
 "metadata": {
  "kernelspec": {
   "display_name": "Python 3",
   "language": "python",
   "name": "python3"
  },
  "language_info": {
   "codemirror_mode": {
    "name": "ipython",
    "version": 3
   },
   "file_extension": ".py",
   "mimetype": "text/x-python",
   "name": "python",
   "nbconvert_exporter": "python",
   "pygments_lexer": "ipython3",
   "version": "3.7.8"
  }
 },
 "nbformat": 4,
 "nbformat_minor": 5
}
