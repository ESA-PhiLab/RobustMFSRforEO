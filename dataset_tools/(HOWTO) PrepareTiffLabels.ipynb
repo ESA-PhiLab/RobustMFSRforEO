{
 "cells": [
  {
   "cell_type": "code",
   "execution_count": null,
   "id": "signal-college",
   "metadata": {},
   "outputs": [],
   "source": [
    "import sys\n",
    "sys.path.append('..')"
   ]
  },
  {
   "cell_type": "markdown",
   "id": "sunset-mandate",
   "metadata": {},
   "source": [
    "# Burn Tiff Labels for SpaceNet Planet Imagery"
   ]
  },
  {
   "cell_type": "code",
   "execution_count": 11,
   "id": "complex-programmer",
   "metadata": {},
   "outputs": [],
   "source": [
    "#https://gist.github.com/avanetten/b295e89f6fa9654c9e9e480bdb2e4d60\n",
    "from osgeo import gdal, ogr\n",
    "\n",
    "def create_building_mask(rasterSrc, vectorSrc, npDistFileName='', noDataValue=0, burn_values=1):\n",
    "    '''\n",
    "    Create building mask for rasterSrc,\n",
    "    Similar to labeltools/createNPPixArray() in spacenet utilities\n",
    "    Args:\n",
    "        - rasterSrc : str, base GeoTiff location\n",
    "        - vectorSrc : str, geoJSON to burn\n",
    "        - npDistFileName: str, output GeoTiff filename\n",
    "    '''\n",
    "    \n",
    "    ## open source vector file that truth data\n",
    "    source_ds = ogr.Open(vectorSrc)\n",
    "    source_layer = source_ds.GetLayer()\n",
    "\n",
    "    ## extract data from src Raster File to be emulated\n",
    "    ## open raster file that is to be emulated\n",
    "    srcRas_ds = gdal.Open(rasterSrc)\n",
    "    cols = srcRas_ds.RasterXSize\n",
    "    rows = srcRas_ds.RasterYSize\n",
    "\n",
    "    ## create First raster memory layer, units are pixels\n",
    "    # Change output to geotiff instead of memory \n",
    "    memdrv = gdal.GetDriverByName('GTiff') \n",
    "    dst_ds = memdrv.Create(npDistFileName, cols, rows, 1, gdal.GDT_Byte, options=['COMPRESS=LZW'])\n",
    "    dst_ds.SetGeoTransform(srcRas_ds.GetGeoTransform())\n",
    "    dst_ds.SetProjection(srcRas_ds.GetProjection())\n",
    "    band = dst_ds.GetRasterBand(1)\n",
    "    band.SetNoDataValue(noDataValue)    \n",
    "    gdal.RasterizeLayer(dst_ds, [1], source_layer, burn_values=[burn_values])\n",
    "    dst_ds = 0"
   ]
  },
  {
   "cell_type": "code",
   "execution_count": null,
   "id": "competitive-stylus",
   "metadata": {},
   "outputs": [],
   "source": [
    "from src.datasources import df_spacenet7\n",
    "import os, tqdm\n",
    "import pandas as pd\n",
    "df_planet = df_spacenet7.loc['planet']"
   ]
  },
  {
   "cell_type": "markdown",
   "id": "appropriate-timeline",
   "metadata": {},
   "source": [
    "## Burn Cloud Masks"
   ]
  },
  {
   "cell_type": "code",
   "execution_count": 48,
   "id": "stretch-cradle",
   "metadata": {},
   "outputs": [
    {
     "name": "stderr",
     "output_type": "stream",
     "text": [
      "100%|██████████| 1423/1423 [00:37<00:00, 37.92it/s]\n"
     ]
    }
   ],
   "source": [
    "df_planet_cloud = pd.DataFrame(list(df_planet['cloud_mask_path']))\n",
    "for output_filename in tqdm.tqdm(list(df_planet_cloud[0])):\n",
    "    geojson_path = output_filename.replace(\"UDM_masks\",\"labels\").replace(\".tif\",\"_UDM.geojson\")\n",
    "    image_path = output_filename.replace(\"UDM_masks\",\"images\")\n",
    "    create_building_mask(rasterSrc=image_path, vectorSrc=geojson_path, npDistFileName=output_filename)"
   ]
  },
  {
   "cell_type": "markdown",
   "id": "durable-contrary",
   "metadata": {},
   "source": [
    "## Burn Building Masks"
   ]
  },
  {
   "cell_type": "code",
   "execution_count": 13,
   "id": "super-documentary",
   "metadata": {},
   "outputs": [
    {
     "name": "stderr",
     "output_type": "stream",
     "text": [
      "100%|██████████| 1423/1423 [03:24<00:00,  6.97it/s]\n"
     ]
    }
   ],
   "source": [
    "df_planet_building = pd.DataFrame(list(df_planet['label_mask_path']))\n",
    "for output_filename in tqdm.tqdm(list(df_planet_building[0])):\n",
    "    geojson_path = output_filename.replace(\"masks\",\"labels\").replace(\".tif\",\".geojson\")\n",
    "    image_path = output_filename.replace(\"masks\",\"images\").replace(\"_Buildings\",\"\")\n",
    "    create_building_mask(rasterSrc=image_path, vectorSrc=geojson_path, npDistFileName=output_filename)"
   ]
  },
  {
   "cell_type": "code",
   "execution_count": null,
   "id": "distant-blackjack",
   "metadata": {},
   "outputs": [],
   "source": []
  }
 ],
 "metadata": {
  "kernelspec": {
   "display_name": "Python 3",
   "language": "python",
   "name": "python3"
  },
  "language_info": {
   "codemirror_mode": {
    "name": "ipython",
    "version": 3
   },
   "file_extension": ".py",
   "mimetype": "text/x-python",
   "name": "python",
   "nbconvert_exporter": "python",
   "pygments_lexer": "ipython3",
   "version": "3.7.8"
  }
 },
 "nbformat": 4,
 "nbformat_minor": 5
}
